{
  "cells": [
    {
      "cell_type": "code",
      "execution_count": null,
      "metadata": {
        "_cell_guid": "95f30dd3-7b08-4087-b156-5bf3250ce742",
        "_uuid": "dc31e50ac68836610ff16246bbda63d7ae6db49b",
        "collapsed": true,
        "id": "he5o2baP1Tst"
      },
      "outputs": [],
      "source": [
        "import pandas as pd\n",
        "import numpy as np\n",
        "# Scikit-learn library: For SVM\n",
        "from sklearn import preprocessing\n",
        "from sklearn.metrics import confusion_matrix\n",
        "from sklearn import svm\n",
        "import itertools\n",
        "# Matplotlib library to plot the charts\n",
        "import matplotlib.pyplot as plt\n",
        "import matplotlib.mlab as mlab\n",
        "# Library for the statistic data vizualisation\n",
        "import seaborn\n",
        "%matplotlib inline"
      ]
    },
    {
      "cell_type": "markdown",
      "metadata": {
        "_cell_guid": "4c375090-4893-4b92-ad94-abb3fbc60e22",
        "_uuid": "504f7342684d5bb9d64acbd7f48c89c2846e69a9",
        "id": "HpLHNQPx1Tsu"
      },
      "source": [
        "# Data recuperation"
      ]
    },
    {
      "cell_type": "code",
      "execution_count": null,
      "metadata": {
        "_cell_guid": "b3cd20ab-f13e-4083-9c36-9291414694c2",
        "_uuid": "232bc475856a4f5e92083e1757242020100ee284",
        "collapsed": true,
        "id": "VSz5-l-r1Tsu"
      },
      "outputs": [],
      "source": [
        "data = pd.read_csv('/content/sample_data/creditcard.csv') # Reading the file .csv\n",
        "df = pd.DataFrame(data) # Converting data to Panda DataFrame"
      ]
    },
    {
      "cell_type": "markdown",
      "metadata": {
        "_cell_guid": "ae7d0f5e-f323-46f6-a454-a2a8065af693",
        "_uuid": "dda60fcd5cb9953205c5ae716fcdf7cd5682f9eb",
        "id": "SerIq7jS1Tsv"
      },
      "source": [
        "# Data Visualization"
      ]
    },
    {
      "cell_type": "code",
      "execution_count": null,
      "metadata": {
        "_cell_guid": "baeaea24-4736-473a-a85c-cbc3ddde9ed3",
        "_uuid": "9d450721809ddf6aa0754b705062bfdf837d9c54",
        "collapsed": true,
        "id": "pXmufbdo1Tsv"
      },
      "outputs": [],
      "source": [
        "df = pd.DataFrame(data)"
      ]
    },
    {
      "cell_type": "code",
      "execution_count": null,
      "metadata": {
        "_cell_guid": "6aade7ce-2b87-4cd0-a998-3a54ac14d4df",
        "_uuid": "4eafc2bb6228637b51ba4e1c97ded7456440cd0f",
        "colab": {
          "base_uri": "https://localhost:8080/",
          "height": 349
        },
        "id": "mjGXoAIP1Tsv",
        "outputId": "8e69e9d0-1a51-4383-d3d6-09f449cb1b48"
      },
      "outputs": [
        {
          "output_type": "execute_result",
          "data": {
            "text/plain": [
              "               Time            V1            V2            V3            V4  \\\n",
              "count  13954.000000  13954.000000  13954.000000  13954.000000  13954.000000   \n",
              "mean   10121.161817     -0.235676      0.284287      0.846047      0.302775   \n",
              "std     7739.625811      1.720315      1.394804      1.561376      1.500595   \n",
              "min        0.000000    -27.670569    -34.607649    -24.667741     -4.657545   \n",
              "25%     2984.250000     -0.969786     -0.282728      0.407297     -0.623141   \n",
              "50%     9086.500000     -0.319439      0.252904      0.960978      0.220104   \n",
              "75%    17103.500000      1.162662      0.884741      1.607031      1.198942   \n",
              "max    24759.000000      1.960497     10.558600      4.101716     11.927512   \n",
              "\n",
              "                 V5            V6            V7            V8            V9  \\\n",
              "count  13954.000000  13954.000000  13954.000000  13954.000000  13954.000000   \n",
              "mean      -0.118730      0.128013     -0.157297     -0.016148      0.989827   \n",
              "std        1.289494      1.320395      1.238583      1.262024      1.214044   \n",
              "min      -32.092129    -23.496714    -26.548144    -23.632502     -7.175097   \n",
              "25%       -0.717155     -0.624025     -0.616307     -0.182270      0.288101   \n",
              "50%       -0.191627     -0.144198     -0.111960      0.016945      0.971414   \n",
              "75%        0.351255      0.508494      0.421830      0.265736      1.654184   \n",
              "max       34.099309     21.393069     34.303177     10.535558     10.392889   \n",
              "\n",
              "       ...           V21           V22           V23           V24  \\\n",
              "count  ...  13954.000000  13954.000000  13954.000000  13954.000000   \n",
              "mean   ...     -0.068037     -0.157471     -0.035585      0.011158   \n",
              "std    ...      0.873942      0.621845      0.499807      0.587225   \n",
              "min    ...    -11.468435     -8.593642    -19.254328     -2.512377   \n",
              "25%    ...     -0.271778     -0.549723     -0.173807     -0.339656   \n",
              "50%    ...     -0.132304     -0.122777     -0.045041      0.060208   \n",
              "75%    ...      0.018677      0.228997      0.069750      0.392734   \n",
              "max    ...     22.614889      4.534454     13.876221      3.200201   \n",
              "\n",
              "                V25           V26           V27           V28        Amount  \\\n",
              "count  13954.000000  13954.000000  13954.000000  13954.000000  13953.000000   \n",
              "mean       0.117019      0.035544      0.012787      0.002122     63.882442   \n",
              "std        0.427953      0.558290      0.399550      0.255710    177.887021   \n",
              "min       -4.781606     -1.338556     -7.976100     -3.575312      0.000000   \n",
              "25%       -0.135887     -0.374596     -0.076862     -0.014869      5.490000   \n",
              "50%        0.155162     -0.035825     -0.000950      0.016238     15.690000   \n",
              "75%        0.393032      0.375271      0.098516      0.072497     52.150000   \n",
              "max        5.525093      3.517346      8.254376      4.860769   7712.430000   \n",
              "\n",
              "              Class  \n",
              "count  13953.000000  \n",
              "mean       0.004013  \n",
              "std        0.063227  \n",
              "min        0.000000  \n",
              "25%        0.000000  \n",
              "50%        0.000000  \n",
              "75%        0.000000  \n",
              "max        1.000000  \n",
              "\n",
              "[8 rows x 31 columns]"
            ],
            "text/html": [
              "\n",
              "  <div id=\"df-9dcf133d-3f18-4d38-850a-d70cf7b03996\" class=\"colab-df-container\">\n",
              "    <div>\n",
              "<style scoped>\n",
              "    .dataframe tbody tr th:only-of-type {\n",
              "        vertical-align: middle;\n",
              "    }\n",
              "\n",
              "    .dataframe tbody tr th {\n",
              "        vertical-align: top;\n",
              "    }\n",
              "\n",
              "    .dataframe thead th {\n",
              "        text-align: right;\n",
              "    }\n",
              "</style>\n",
              "<table border=\"1\" class=\"dataframe\">\n",
              "  <thead>\n",
              "    <tr style=\"text-align: right;\">\n",
              "      <th></th>\n",
              "      <th>Time</th>\n",
              "      <th>V1</th>\n",
              "      <th>V2</th>\n",
              "      <th>V3</th>\n",
              "      <th>V4</th>\n",
              "      <th>V5</th>\n",
              "      <th>V6</th>\n",
              "      <th>V7</th>\n",
              "      <th>V8</th>\n",
              "      <th>V9</th>\n",
              "      <th>...</th>\n",
              "      <th>V21</th>\n",
              "      <th>V22</th>\n",
              "      <th>V23</th>\n",
              "      <th>V24</th>\n",
              "      <th>V25</th>\n",
              "      <th>V26</th>\n",
              "      <th>V27</th>\n",
              "      <th>V28</th>\n",
              "      <th>Amount</th>\n",
              "      <th>Class</th>\n",
              "    </tr>\n",
              "  </thead>\n",
              "  <tbody>\n",
              "    <tr>\n",
              "      <th>count</th>\n",
              "      <td>13954.000000</td>\n",
              "      <td>13954.000000</td>\n",
              "      <td>13954.000000</td>\n",
              "      <td>13954.000000</td>\n",
              "      <td>13954.000000</td>\n",
              "      <td>13954.000000</td>\n",
              "      <td>13954.000000</td>\n",
              "      <td>13954.000000</td>\n",
              "      <td>13954.000000</td>\n",
              "      <td>13954.000000</td>\n",
              "      <td>...</td>\n",
              "      <td>13954.000000</td>\n",
              "      <td>13954.000000</td>\n",
              "      <td>13954.000000</td>\n",
              "      <td>13954.000000</td>\n",
              "      <td>13954.000000</td>\n",
              "      <td>13954.000000</td>\n",
              "      <td>13954.000000</td>\n",
              "      <td>13954.000000</td>\n",
              "      <td>13953.000000</td>\n",
              "      <td>13953.000000</td>\n",
              "    </tr>\n",
              "    <tr>\n",
              "      <th>mean</th>\n",
              "      <td>10121.161817</td>\n",
              "      <td>-0.235676</td>\n",
              "      <td>0.284287</td>\n",
              "      <td>0.846047</td>\n",
              "      <td>0.302775</td>\n",
              "      <td>-0.118730</td>\n",
              "      <td>0.128013</td>\n",
              "      <td>-0.157297</td>\n",
              "      <td>-0.016148</td>\n",
              "      <td>0.989827</td>\n",
              "      <td>...</td>\n",
              "      <td>-0.068037</td>\n",
              "      <td>-0.157471</td>\n",
              "      <td>-0.035585</td>\n",
              "      <td>0.011158</td>\n",
              "      <td>0.117019</td>\n",
              "      <td>0.035544</td>\n",
              "      <td>0.012787</td>\n",
              "      <td>0.002122</td>\n",
              "      <td>63.882442</td>\n",
              "      <td>0.004013</td>\n",
              "    </tr>\n",
              "    <tr>\n",
              "      <th>std</th>\n",
              "      <td>7739.625811</td>\n",
              "      <td>1.720315</td>\n",
              "      <td>1.394804</td>\n",
              "      <td>1.561376</td>\n",
              "      <td>1.500595</td>\n",
              "      <td>1.289494</td>\n",
              "      <td>1.320395</td>\n",
              "      <td>1.238583</td>\n",
              "      <td>1.262024</td>\n",
              "      <td>1.214044</td>\n",
              "      <td>...</td>\n",
              "      <td>0.873942</td>\n",
              "      <td>0.621845</td>\n",
              "      <td>0.499807</td>\n",
              "      <td>0.587225</td>\n",
              "      <td>0.427953</td>\n",
              "      <td>0.558290</td>\n",
              "      <td>0.399550</td>\n",
              "      <td>0.255710</td>\n",
              "      <td>177.887021</td>\n",
              "      <td>0.063227</td>\n",
              "    </tr>\n",
              "    <tr>\n",
              "      <th>min</th>\n",
              "      <td>0.000000</td>\n",
              "      <td>-27.670569</td>\n",
              "      <td>-34.607649</td>\n",
              "      <td>-24.667741</td>\n",
              "      <td>-4.657545</td>\n",
              "      <td>-32.092129</td>\n",
              "      <td>-23.496714</td>\n",
              "      <td>-26.548144</td>\n",
              "      <td>-23.632502</td>\n",
              "      <td>-7.175097</td>\n",
              "      <td>...</td>\n",
              "      <td>-11.468435</td>\n",
              "      <td>-8.593642</td>\n",
              "      <td>-19.254328</td>\n",
              "      <td>-2.512377</td>\n",
              "      <td>-4.781606</td>\n",
              "      <td>-1.338556</td>\n",
              "      <td>-7.976100</td>\n",
              "      <td>-3.575312</td>\n",
              "      <td>0.000000</td>\n",
              "      <td>0.000000</td>\n",
              "    </tr>\n",
              "    <tr>\n",
              "      <th>25%</th>\n",
              "      <td>2984.250000</td>\n",
              "      <td>-0.969786</td>\n",
              "      <td>-0.282728</td>\n",
              "      <td>0.407297</td>\n",
              "      <td>-0.623141</td>\n",
              "      <td>-0.717155</td>\n",
              "      <td>-0.624025</td>\n",
              "      <td>-0.616307</td>\n",
              "      <td>-0.182270</td>\n",
              "      <td>0.288101</td>\n",
              "      <td>...</td>\n",
              "      <td>-0.271778</td>\n",
              "      <td>-0.549723</td>\n",
              "      <td>-0.173807</td>\n",
              "      <td>-0.339656</td>\n",
              "      <td>-0.135887</td>\n",
              "      <td>-0.374596</td>\n",
              "      <td>-0.076862</td>\n",
              "      <td>-0.014869</td>\n",
              "      <td>5.490000</td>\n",
              "      <td>0.000000</td>\n",
              "    </tr>\n",
              "    <tr>\n",
              "      <th>50%</th>\n",
              "      <td>9086.500000</td>\n",
              "      <td>-0.319439</td>\n",
              "      <td>0.252904</td>\n",
              "      <td>0.960978</td>\n",
              "      <td>0.220104</td>\n",
              "      <td>-0.191627</td>\n",
              "      <td>-0.144198</td>\n",
              "      <td>-0.111960</td>\n",
              "      <td>0.016945</td>\n",
              "      <td>0.971414</td>\n",
              "      <td>...</td>\n",
              "      <td>-0.132304</td>\n",
              "      <td>-0.122777</td>\n",
              "      <td>-0.045041</td>\n",
              "      <td>0.060208</td>\n",
              "      <td>0.155162</td>\n",
              "      <td>-0.035825</td>\n",
              "      <td>-0.000950</td>\n",
              "      <td>0.016238</td>\n",
              "      <td>15.690000</td>\n",
              "      <td>0.000000</td>\n",
              "    </tr>\n",
              "    <tr>\n",
              "      <th>75%</th>\n",
              "      <td>17103.500000</td>\n",
              "      <td>1.162662</td>\n",
              "      <td>0.884741</td>\n",
              "      <td>1.607031</td>\n",
              "      <td>1.198942</td>\n",
              "      <td>0.351255</td>\n",
              "      <td>0.508494</td>\n",
              "      <td>0.421830</td>\n",
              "      <td>0.265736</td>\n",
              "      <td>1.654184</td>\n",
              "      <td>...</td>\n",
              "      <td>0.018677</td>\n",
              "      <td>0.228997</td>\n",
              "      <td>0.069750</td>\n",
              "      <td>0.392734</td>\n",
              "      <td>0.393032</td>\n",
              "      <td>0.375271</td>\n",
              "      <td>0.098516</td>\n",
              "      <td>0.072497</td>\n",
              "      <td>52.150000</td>\n",
              "      <td>0.000000</td>\n",
              "    </tr>\n",
              "    <tr>\n",
              "      <th>max</th>\n",
              "      <td>24759.000000</td>\n",
              "      <td>1.960497</td>\n",
              "      <td>10.558600</td>\n",
              "      <td>4.101716</td>\n",
              "      <td>11.927512</td>\n",
              "      <td>34.099309</td>\n",
              "      <td>21.393069</td>\n",
              "      <td>34.303177</td>\n",
              "      <td>10.535558</td>\n",
              "      <td>10.392889</td>\n",
              "      <td>...</td>\n",
              "      <td>22.614889</td>\n",
              "      <td>4.534454</td>\n",
              "      <td>13.876221</td>\n",
              "      <td>3.200201</td>\n",
              "      <td>5.525093</td>\n",
              "      <td>3.517346</td>\n",
              "      <td>8.254376</td>\n",
              "      <td>4.860769</td>\n",
              "      <td>7712.430000</td>\n",
              "      <td>1.000000</td>\n",
              "    </tr>\n",
              "  </tbody>\n",
              "</table>\n",
              "<p>8 rows × 31 columns</p>\n",
              "</div>\n",
              "    <div class=\"colab-df-buttons\">\n",
              "\n",
              "  <div class=\"colab-df-container\">\n",
              "    <button class=\"colab-df-convert\" onclick=\"convertToInteractive('df-9dcf133d-3f18-4d38-850a-d70cf7b03996')\"\n",
              "            title=\"Convert this dataframe to an interactive table.\"\n",
              "            style=\"display:none;\">\n",
              "\n",
              "  <svg xmlns=\"http://www.w3.org/2000/svg\" height=\"24px\" viewBox=\"0 -960 960 960\">\n",
              "    <path d=\"M120-120v-720h720v720H120Zm60-500h600v-160H180v160Zm220 220h160v-160H400v160Zm0 220h160v-160H400v160ZM180-400h160v-160H180v160Zm440 0h160v-160H620v160ZM180-180h160v-160H180v160Zm440 0h160v-160H620v160Z\"/>\n",
              "  </svg>\n",
              "    </button>\n",
              "\n",
              "  <style>\n",
              "    .colab-df-container {\n",
              "      display:flex;\n",
              "      gap: 12px;\n",
              "    }\n",
              "\n",
              "    .colab-df-convert {\n",
              "      background-color: #E8F0FE;\n",
              "      border: none;\n",
              "      border-radius: 50%;\n",
              "      cursor: pointer;\n",
              "      display: none;\n",
              "      fill: #1967D2;\n",
              "      height: 32px;\n",
              "      padding: 0 0 0 0;\n",
              "      width: 32px;\n",
              "    }\n",
              "\n",
              "    .colab-df-convert:hover {\n",
              "      background-color: #E2EBFA;\n",
              "      box-shadow: 0px 1px 2px rgba(60, 64, 67, 0.3), 0px 1px 3px 1px rgba(60, 64, 67, 0.15);\n",
              "      fill: #174EA6;\n",
              "    }\n",
              "\n",
              "    .colab-df-buttons div {\n",
              "      margin-bottom: 4px;\n",
              "    }\n",
              "\n",
              "    [theme=dark] .colab-df-convert {\n",
              "      background-color: #3B4455;\n",
              "      fill: #D2E3FC;\n",
              "    }\n",
              "\n",
              "    [theme=dark] .colab-df-convert:hover {\n",
              "      background-color: #434B5C;\n",
              "      box-shadow: 0px 1px 3px 1px rgba(0, 0, 0, 0.15);\n",
              "      filter: drop-shadow(0px 1px 2px rgba(0, 0, 0, 0.3));\n",
              "      fill: #FFFFFF;\n",
              "    }\n",
              "  </style>\n",
              "\n",
              "    <script>\n",
              "      const buttonEl =\n",
              "        document.querySelector('#df-9dcf133d-3f18-4d38-850a-d70cf7b03996 button.colab-df-convert');\n",
              "      buttonEl.style.display =\n",
              "        google.colab.kernel.accessAllowed ? 'block' : 'none';\n",
              "\n",
              "      async function convertToInteractive(key) {\n",
              "        const element = document.querySelector('#df-9dcf133d-3f18-4d38-850a-d70cf7b03996');\n",
              "        const dataTable =\n",
              "          await google.colab.kernel.invokeFunction('convertToInteractive',\n",
              "                                                    [key], {});\n",
              "        if (!dataTable) return;\n",
              "\n",
              "        const docLinkHtml = 'Like what you see? Visit the ' +\n",
              "          '<a target=\"_blank\" href=https://colab.research.google.com/notebooks/data_table.ipynb>data table notebook</a>'\n",
              "          + ' to learn more about interactive tables.';\n",
              "        element.innerHTML = '';\n",
              "        dataTable['output_type'] = 'display_data';\n",
              "        await google.colab.output.renderOutput(dataTable, element);\n",
              "        const docLink = document.createElement('div');\n",
              "        docLink.innerHTML = docLinkHtml;\n",
              "        element.appendChild(docLink);\n",
              "      }\n",
              "    </script>\n",
              "  </div>\n",
              "\n",
              "\n",
              "<div id=\"df-5b730ac5-52de-47c3-985e-379de76f4215\">\n",
              "  <button class=\"colab-df-quickchart\" onclick=\"quickchart('df-5b730ac5-52de-47c3-985e-379de76f4215')\"\n",
              "            title=\"Suggest charts.\"\n",
              "            style=\"display:none;\">\n",
              "\n",
              "<svg xmlns=\"http://www.w3.org/2000/svg\" height=\"24px\"viewBox=\"0 0 24 24\"\n",
              "     width=\"24px\">\n",
              "    <g>\n",
              "        <path d=\"M19 3H5c-1.1 0-2 .9-2 2v14c0 1.1.9 2 2 2h14c1.1 0 2-.9 2-2V5c0-1.1-.9-2-2-2zM9 17H7v-7h2v7zm4 0h-2V7h2v10zm4 0h-2v-4h2v4z\"/>\n",
              "    </g>\n",
              "</svg>\n",
              "  </button>\n",
              "\n",
              "<style>\n",
              "  .colab-df-quickchart {\n",
              "      --bg-color: #E8F0FE;\n",
              "      --fill-color: #1967D2;\n",
              "      --hover-bg-color: #E2EBFA;\n",
              "      --hover-fill-color: #174EA6;\n",
              "      --disabled-fill-color: #AAA;\n",
              "      --disabled-bg-color: #DDD;\n",
              "  }\n",
              "\n",
              "  [theme=dark] .colab-df-quickchart {\n",
              "      --bg-color: #3B4455;\n",
              "      --fill-color: #D2E3FC;\n",
              "      --hover-bg-color: #434B5C;\n",
              "      --hover-fill-color: #FFFFFF;\n",
              "      --disabled-bg-color: #3B4455;\n",
              "      --disabled-fill-color: #666;\n",
              "  }\n",
              "\n",
              "  .colab-df-quickchart {\n",
              "    background-color: var(--bg-color);\n",
              "    border: none;\n",
              "    border-radius: 50%;\n",
              "    cursor: pointer;\n",
              "    display: none;\n",
              "    fill: var(--fill-color);\n",
              "    height: 32px;\n",
              "    padding: 0;\n",
              "    width: 32px;\n",
              "  }\n",
              "\n",
              "  .colab-df-quickchart:hover {\n",
              "    background-color: var(--hover-bg-color);\n",
              "    box-shadow: 0 1px 2px rgba(60, 64, 67, 0.3), 0 1px 3px 1px rgba(60, 64, 67, 0.15);\n",
              "    fill: var(--button-hover-fill-color);\n",
              "  }\n",
              "\n",
              "  .colab-df-quickchart-complete:disabled,\n",
              "  .colab-df-quickchart-complete:disabled:hover {\n",
              "    background-color: var(--disabled-bg-color);\n",
              "    fill: var(--disabled-fill-color);\n",
              "    box-shadow: none;\n",
              "  }\n",
              "\n",
              "  .colab-df-spinner {\n",
              "    border: 2px solid var(--fill-color);\n",
              "    border-color: transparent;\n",
              "    border-bottom-color: var(--fill-color);\n",
              "    animation:\n",
              "      spin 1s steps(1) infinite;\n",
              "  }\n",
              "\n",
              "  @keyframes spin {\n",
              "    0% {\n",
              "      border-color: transparent;\n",
              "      border-bottom-color: var(--fill-color);\n",
              "      border-left-color: var(--fill-color);\n",
              "    }\n",
              "    20% {\n",
              "      border-color: transparent;\n",
              "      border-left-color: var(--fill-color);\n",
              "      border-top-color: var(--fill-color);\n",
              "    }\n",
              "    30% {\n",
              "      border-color: transparent;\n",
              "      border-left-color: var(--fill-color);\n",
              "      border-top-color: var(--fill-color);\n",
              "      border-right-color: var(--fill-color);\n",
              "    }\n",
              "    40% {\n",
              "      border-color: transparent;\n",
              "      border-right-color: var(--fill-color);\n",
              "      border-top-color: var(--fill-color);\n",
              "    }\n",
              "    60% {\n",
              "      border-color: transparent;\n",
              "      border-right-color: var(--fill-color);\n",
              "    }\n",
              "    80% {\n",
              "      border-color: transparent;\n",
              "      border-right-color: var(--fill-color);\n",
              "      border-bottom-color: var(--fill-color);\n",
              "    }\n",
              "    90% {\n",
              "      border-color: transparent;\n",
              "      border-bottom-color: var(--fill-color);\n",
              "    }\n",
              "  }\n",
              "</style>\n",
              "\n",
              "  <script>\n",
              "    async function quickchart(key) {\n",
              "      const quickchartButtonEl =\n",
              "        document.querySelector('#' + key + ' button');\n",
              "      quickchartButtonEl.disabled = true;  // To prevent multiple clicks.\n",
              "      quickchartButtonEl.classList.add('colab-df-spinner');\n",
              "      try {\n",
              "        const charts = await google.colab.kernel.invokeFunction(\n",
              "            'suggestCharts', [key], {});\n",
              "      } catch (error) {\n",
              "        console.error('Error during call to suggestCharts:', error);\n",
              "      }\n",
              "      quickchartButtonEl.classList.remove('colab-df-spinner');\n",
              "      quickchartButtonEl.classList.add('colab-df-quickchart-complete');\n",
              "    }\n",
              "    (() => {\n",
              "      let quickchartButtonEl =\n",
              "        document.querySelector('#df-5b730ac5-52de-47c3-985e-379de76f4215 button');\n",
              "      quickchartButtonEl.style.display =\n",
              "        google.colab.kernel.accessAllowed ? 'block' : 'none';\n",
              "    })();\n",
              "  </script>\n",
              "</div>\n",
              "    </div>\n",
              "  </div>\n"
            ]
          },
          "metadata": {},
          "execution_count": 4
        }
      ],
      "source": [
        "df.describe() # Description of statistic features (Sum, Average, Variance, minimum, 1st quartile, 2nd quartile, 3rd Quartile and Maximum)"
      ]
    },
    {
      "cell_type": "code",
      "execution_count": null,
      "metadata": {
        "_cell_guid": "aaf455b3-f3a1-4316-99c6-cbd4c0a8b33d",
        "_uuid": "346c8874f9118fcbcea8f028804179eed54eca69",
        "colab": {
          "base_uri": "https://localhost:8080/",
          "height": 872
        },
        "id": "8d1t554r1Tsw",
        "outputId": "f711efc5-db58-4fc3-c729-cd6e77a3165d"
      },
      "outputs": [
        {
          "output_type": "display_data",
          "data": {
            "text/plain": [
              "<Figure size 1500x1000 with 1 Axes>"
            ],
            "image/png": "[encoded data removed]"
          },
          "metadata": {}
        }
      ],
      "source": [
        "df_fraud = df[df['Class'] == 1] # Recovery of fraud data\n",
        "plt.figure(figsize=(15,10))\n",
        "plt.scatter(df_fraud['Time'], df_fraud['Amount']) # Display fraud amounts according to their time\n",
        "plt.title('Scratter plot amount fraud')\n",
        "plt.xlabel('Time')\n",
        "plt.ylabel('Amount')\n",
        "plt.xlim([0,175000])\n",
        "plt.ylim([0,2500])\n",
        "plt.show()"
      ]
    },
    {
      "cell_type": "code",
      "execution_count": null,
      "metadata": {
        "_cell_guid": "8b77e909-ab26-4783-8005-bf591d66cf5b",
        "_uuid": "9a273b886643735328b0666edf70d12807804fe1",
        "colab": {
          "base_uri": "https://localhost:8080/"
        },
        "id": "NzUdxCeW1Tsx",
        "outputId": "2faeae83-bed5-4103-8c77-d04f4adeede5"
      },
      "outputs": [
        {
          "output_type": "stream",
          "name": "stdout",
          "text": [
            "There are only 2 frauds where the amount was bigger than 1000 over 56 frauds\n"
          ]
        }
      ],
      "source": [
        "nb_big_fraud = df_fraud[df_fraud['Amount'] > 1000].shape[0] # Recovery of frauds over 1000\n",
        "print('There are only '+ str(nb_big_fraud) + ' frauds where the amount was bigger than 1000 over ' + str(df_fraud.shape[0]) + ' frauds')"
      ]
    },
    {
      "cell_type": "markdown",
      "metadata": {
        "_cell_guid": "43c05bc7-c327-4120-9a4b-9b319457a0b5",
        "_uuid": "c5b9104e688e7bcee494645969a7c8360aff515e",
        "id": "PuBGM7-C1Tsx"
      },
      "source": [
        "**Unbalanced data**"
      ]
    },
    {
      "cell_type": "code",
      "execution_count": null,
      "metadata": {
        "_cell_guid": "02332e68-9fec-48c5-89cd-06ce360f2e9c",
        "_uuid": "bd071ed3ed6dcf625adc45196f615d62cd462ab1",
        "colab": {
          "base_uri": "https://localhost:8080/"
        },
        "id": "p5BroXZ61Tsy",
        "outputId": "11ac1059-ec6d-4333-9ac2-3dca456f87ee"
      },
      "outputs": [
        {
          "output_type": "stream",
          "name": "stdout",
          "text": [
            "There are only 56 frauds in the original dataset, even though there are 13897 no frauds in the dataset.\n"
          ]
        }
      ],
      "source": [
        "number_fraud = len(data[data.Class == 1])\n",
        "number_no_fraud = len(data[data.Class == 0])\n",
        "print('There are only '+ str(number_fraud) + ' frauds in the original dataset, even though there are ' + str(number_no_fraud) +' no frauds in the dataset.')"
      ]
    },
    {
      "cell_type": "markdown",
      "metadata": {
        "_cell_guid": "a78cfc34-d5a4-45b7-abc1-c70dec7e1c9b",
        "_uuid": "0fa59cb4bb66a0c62d3edb6eb2650d64e19fc113",
        "id": "Jab7G8sg1Tsy"
      },
      "source": [
        "This dataset is unbalanced which means using the data as it is might result in unwanted behaviour from a supervised classifier.\n",
        "To make it easy to understand if a classifier were to train with this data set trying to achieve the best accuracy possible it would most likely label every transaction as a non-fraud"
      ]
    },
    {
      "cell_type": "code",
      "execution_count": null,
      "metadata": {
        "_cell_guid": "32763345-e2ac-455b-9265-50bcc304da07",
        "_uuid": "5139011572ad26820d148f408fb3d839899331b5",
        "colab": {
          "base_uri": "https://localhost:8080/"
        },
        "id": "1714qfp31Tsy",
        "outputId": "bb3db220-1457-4284-ed94-0e29c871f9f7"
      },
      "outputs": [
        {
          "output_type": "stream",
          "name": "stdout",
          "text": [
            "The accuracy of the classifier then would be : 0.998269524998681 which is the number of good classification over the number of tuple to classify\n"
          ]
        }
      ],
      "source": [
        "print(\"The accuracy of the classifier then would be : \"+ str((284315-492)/284315)+ \" which is the number of good classification over the number of tuple to classify\")"
      ]
    },
    {
      "cell_type": "markdown",
      "metadata": {
        "_cell_guid": "527f2804-0aa7-4220-aa9b-03f6b8c0a9fe",
        "_uuid": "8a4df6becaba62481d52118f944612c8c579b8e7",
        "id": "bw84Zgb71Tsy"
      },
      "source": [
        "To answer this problem we could use the oversampling principle or the undersampling principle\n",
        "The undersampling principle should be used only if we can be sure that the selected few tuples (in this case non-fraud) are representative of the whole non-fraud transactions of the dataset."
      ]
    },
    {
      "cell_type": "markdown",
      "metadata": {
        "_cell_guid": "934444aa-0a22-4b60-b363-c4af3ab8ffe9",
        "_uuid": "ce9fa83195b843375a102593ee1ece0b9efdad97",
        "id": "3B61eO631Tsy"
      },
      "source": [
        "# Correlation of features"
      ]
    },
    {
      "cell_type": "code",
      "execution_count": null,
      "metadata": {
        "_cell_guid": "a575fa45-aa54-42d8-bc41-7901109b0a30",
        "_uuid": "c79fd2aee5021d4f09523411513e43220bede053",
        "collapsed": true,
        "id": "H6hFUZc41Tsz"
      },
      "outputs": [],
      "source": [
        "df_corr = df.corr() # Calculation of the correlation coefficients in pairs, with the default method:\n",
        "                    # Pearson, Standard Correlation Coefficient"
      ]
    },
    {
      "cell_type": "code",
      "execution_count": null,
      "metadata": {
        "_cell_guid": "f3fbb40b-c628-45bc-96df-599c83ea1a7f",
        "_uuid": "238eb36a153c7049fef3fd5f4f07f363b4aa92b9",
        "colab": {
          "base_uri": "https://localhost:8080/",
          "height": 905
        },
        "id": "4_PsrLpo1Tsz",
        "outputId": "3c59e68f-2898-403c-b93f-eb94f383b38e"
      },
      "outputs": [
        {
          "output_type": "display_data",
          "data": {
            "text/plain": [
              "<Figure size 1500x1000 with 2 Axes>"
            ],
            "image/png": "[encoded data removed]"
          },
          "metadata": {}
        }
      ],
      "source": [
        "plt.figure(figsize=(15,10))\n",
        "seaborn.heatmap(df_corr, cmap=\"YlGnBu\") # Displaying the Heatmap\n",
        "seaborn.set(font_scale=2,style='white')\n",
        "\n",
        "plt.title('Heatmap correlation')\n",
        "plt.show()"
      ]
    },
    {
      "cell_type": "markdown",
      "metadata": {
        "_cell_guid": "41acf9be-3920-47bd-88ec-14182bf970f8",
        "_uuid": "1628a54bdc8639aa5eae20dd6d7c7197fe1cfee5",
        "id": "Ci3n-HFf1Tsz"
      },
      "source": [
        "As we can notice, most of the features are not correlated with each other. This corroborates the fact that a PCA was previously performed on the data."
      ]
    },
    {
      "cell_type": "markdown",
      "metadata": {
        "_cell_guid": "64510cda-f727-4c55-94e2-b5866b61ded6",
        "_uuid": "183412c2da2fac035008f37fd94509c1dd59a343",
        "id": "dQOZop9z1Tsz"
      },
      "source": [
        "What can generally be done on a massive dataset is a dimension reduction.\n",
        "By picking th emost important dimensions, there is a possiblity of explaining most of the problem, thus gaining\n",
        "a considerable amount of time while preventing the accuracy to drop too much."
      ]
    },
    {
      "cell_type": "markdown",
      "metadata": {
        "_cell_guid": "2ba2b88a-7b27-4033-8e4a-73af650d1c06",
        "_uuid": "d82ba55efd1b473742de899c8dd6b2c3215b70db",
        "id": "p12xvpHW1Tsz"
      },
      "source": [
        "However in this case given the fact that a PCA was previously performed, if the dimension reduction is effective then the PCA wasn't computed in the most effective way. Another way to put it is that no dimension reduction should be computed on a dataset on which a PCA was computed correctly."
      ]
    },
    {
      "cell_type": "code",
      "execution_count": null,
      "metadata": {
        "_cell_guid": "513071fd-e5e9-4ad5-a45a-bfcfa9376cdc",
        "_uuid": "f5b17abf4e8a26f4f63f4379b1d0b2822b5a3c85",
        "collapsed": true,
        "id": "X_0AgJL11Tsz"
      },
      "outputs": [],
      "source": [
        "rank = df_corr['Class'] # Retrieving the correlation coefficients per feature in relation to the feature class\n",
        "df_rank = pd.DataFrame(rank)\n",
        "df_rank = np.abs(df_rank).sort_values(by='Class',ascending=False) # Ranking the absolute values of the coefficients\n",
        "                                                                  # in descending order\n",
        "df_rank.dropna(inplace=True) # Removing Missing Data (not a number)"
      ]
    },
    {
      "cell_type": "markdown",
      "metadata": {
        "_cell_guid": "00e91ae9-d53a-40af-a48a-095a4b67dff9",
        "_uuid": "5a154f92f11ecfd72ad4eb2406ead5c24a9d00e3",
        "id": "5TfoQzsr1Tsz"
      },
      "source": [
        "# Data Selection"
      ]
    },
    {
      "cell_type": "markdown",
      "metadata": {
        "_cell_guid": "a0432f2f-3926-46a0-ac53-a46cf05bb9c8",
        "_uuid": "ecc0c8cd3849db0cbce7dc35e2ab532d13cc052a",
        "id": "fmY_t07_1Ts0"
      },
      "source": [
        "OVERSAMPLING"
      ]
    },
    {
      "cell_type": "code",
      "execution_count": null,
      "metadata": {
        "_cell_guid": "679f5dd1-5665-4de2-942b-6ac95ff1a02f",
        "_uuid": "d5b23951407345e6a89ca312967e582c66e11af3",
        "colab": {
          "base_uri": "https://localhost:8080/"
        },
        "id": "qkStGHVS1Ts0",
        "outputId": "ab706fbc-6f33-4802-bdba-15c2e79ed017"
      },
      "outputs": [
        {
          "output_type": "stream",
          "name": "stdout",
          "text": [
            "In this dataset, we have 56 frauds so we need to take a similar number of non-fraud\n"
          ]
        },
        {
          "output_type": "stream",
          "name": "stderr",
          "text": [
            "<ipython-input-13-58f88c369d05>:6: FutureWarning: The frame.append method is deprecated and will be removed from pandas in a future version. Use pandas.concat instead.\n",
            "  df_train = df_train_1.append(df_sample) # We gather the frauds with the no frauds.\n"
          ]
        }
      ],
      "source": [
        "df_train_all = df[0:150000]\n",
        "df_train_1 = df_train_all[df_train_all['Class'] == 1]\n",
        "df_train_0 = df_train_all[df_train_all['Class'] == 0]\n",
        "print('In this dataset, we have ' + str(len(df_train_1)) +\" frauds so we need to take a similar number of non-fraud\")\n",
        "df_sample=df_train_0.sample(300)\n",
        "df_train = df_train_1.append(df_sample) # We gather the frauds with the no frauds.\n",
        "df_train = df_train.sample(frac=1) # Then we mix our dataset"
      ]
    },
    {
      "cell_type": "code",
      "execution_count": null,
      "metadata": {
        "_cell_guid": "36f77663-2b2a-412f-a759-0fd3a0bf06ab",
        "_uuid": "d9707da7dc04b2a415608f2833dd5d732dd98925",
        "collapsed": true,
        "id": "NndkOoAO1Ts0"
      },
      "outputs": [],
      "source": [
        "X_train = df_train.drop(['Time', 'Class'],axis=1) # We drop the features Time (useless), and the Class (label)\n",
        "y_train = df_train['Class'] # We create our label\n",
        "X_train = np.asarray(X_train)\n",
        "y_train = np.asarray(y_train)"
      ]
    },
    {
      "cell_type": "code",
      "execution_count": null,
      "metadata": {
        "_cell_guid": "d7c350a4-6874-46b8-b699-4c27aa42dade",
        "_uuid": "975a023dc24a60832b3a670aecf2dbe3b9390183",
        "collapsed": true,
        "id": "m0wuJsqj1Ts0"
      },
      "outputs": [],
      "source": [
        "df_test_all = df[150000:]\n",
        "X_test_all = df_test_all.drop(['Time', 'Class'],axis=1)\n",
        "y_test_all = df_test_all['Class']\n",
        "X_test_all = np.asarray(X_test_all)\n",
        "y_test_all = np.asarray(y_test_all)"
      ]
    },
    {
      "cell_type": "markdown",
      "metadata": {
        "_cell_guid": "0b4284ab-89fc-4992-919b-b2fce118c601",
        "_uuid": "6506e5ce2aaa631f98c3290a6a35bd2cdc16a62d",
        "id": "tVVuoIBJ1Ts0"
      },
      "source": [
        "Then we define training and testing set after applying a dimension reduction to illustrate the fact that nothing will be gained because a PCA was previously computed"
      ]
    },
    {
      "cell_type": "code",
      "execution_count": null,
      "metadata": {
        "_cell_guid": "d7246290-1ada-4be9-87a3-833620d23e04",
        "_uuid": "274f5e99f592cdc487e39eb60419a17a1cada5fe",
        "collapsed": true,
        "id": "vZVcy4bN1Ts0"
      },
      "outputs": [],
      "source": [
        "X_train_rank = df_train[df_rank.index[1:11]] # We take the first ten ranked features\n",
        "X_train_rank = np.asarray(X_train_rank)"
      ]
    },
    {
      "cell_type": "code",
      "execution_count": null,
      "metadata": {
        "_cell_guid": "1c9addbe-d94c-44e8-84a9-1afdd13291be",
        "_uuid": "7a28465f8d7a4577ca6f4d1eb1f372a87da87c63",
        "collapsed": true,
        "id": "u2Aw9Nbd1Ts1"
      },
      "outputs": [],
      "source": [
        "############################## with all the test dataset to see if the model learn correctly ##################\n",
        "X_test_all_rank = df_test_all[df_rank.index[1:11]]\n",
        "X_test_all_rank = np.asarray(X_test_all_rank)\n",
        "y_test_all = np.asarray(y_test_all)"
      ]
    },
    {
      "cell_type": "markdown",
      "metadata": {
        "_cell_guid": "c54c8f9f-9301-4a96-9c8b-1845946187ff",
        "_uuid": "a6896c291abc000d9d642fcc65bb93d45b118236",
        "id": "k5U4ZzI31Ts1"
      },
      "source": [
        "# Confusion Matrix"
      ]
    },
    {
      "cell_type": "code",
      "execution_count": null,
      "metadata": {
        "_cell_guid": "e298b2fd-6569-4e38-97b1-227a0960e4fe",
        "_uuid": "55d1987b1b3963fb9ca5fd1142faae095dfa338b",
        "collapsed": true,
        "id": "FlPYjva51Ts1"
      },
      "outputs": [],
      "source": [
        "class_names=np.array(['0','1']) # Binary label, Class = 1 (fraud) and Class = 0 (no fraud)"
      ]
    },
    {
      "cell_type": "code",
      "execution_count": null,
      "metadata": {
        "_cell_guid": "c57ed880-9e78-4620-9158-bfe626bf75f6",
        "_uuid": "a484397df965faf0e489e17a7e0b0ccf36c8bf84",
        "collapsed": true,
        "id": "NvfZwtSp1Ts1"
      },
      "outputs": [],
      "source": [
        "# Function to plot the confusion Matrix\n",
        "def plot_confusion_matrix(cm, classes,\n",
        "                          title='Confusion matrix',\n",
        "                          cmap=plt.cm.Blues):\n",
        "\n",
        "    plt.imshow(cm, interpolation='nearest', cmap=cmap)\n",
        "    plt.title(title)\n",
        "    plt.colorbar()\n",
        "    tick_marks = np.arange(len(classes))\n",
        "    plt.xticks(tick_marks, classes, rotation=45)\n",
        "    plt.yticks(tick_marks, classes)\n",
        "\n",
        "    fmt = 'd'\n",
        "    thresh = cm.max() / 2.\n",
        "    for i, j in itertools.product(range(cm.shape[0]), range(cm.shape[1])):\n",
        "        plt.text(j, i, format(cm[i, j], fmt),\n",
        "                 horizontalalignment=\"center\",\n",
        "                 color=\"white\" if cm[i, j] > thresh else \"black\")\n",
        "\n",
        "    plt.tight_layout()\n",
        "    plt.ylabel('True label')\n",
        "    plt.xlabel('Predicted label')"
      ]
    },
    {
      "cell_type": "markdown",
      "metadata": {
        "_cell_guid": "f7de7e6f-e51d-4e83-9d4e-6b0abdd2c726",
        "_uuid": "95ccdb3d1da9c590cb7b984f7f7a3151c316509c",
        "id": "IiA13edM1Ts1"
      },
      "source": [
        "# Model Selection"
      ]
    },
    {
      "cell_type": "markdown",
      "metadata": {
        "_cell_guid": "08c5814b-f154-476b-a91b-09682911a7fc",
        "_uuid": "940007266bccc4c732bfe0d990e7307eddb53293",
        "scrolled": true,
        "id": "JVnD3QA81Ts1"
      },
      "source": [
        "So now, we'll use a SVM model classifier, with the scikit-learn library."
      ]
    },
    {
      "cell_type": "code",
      "execution_count": null,
      "metadata": {
        "_cell_guid": "1402594d-a2bf-4bef-a4b1-ffbada37e8b6",
        "_uuid": "54b464be3bacc3a8730ef22a44de83979a541952",
        "collapsed": true,
        "id": "xKGsuCBF1Ts1"
      },
      "outputs": [],
      "source": [
        "classifier = svm.SVC(kernel='linear') # We set a SVM classifier, the default SVM Classifier (Kernel = Radial Basis Function)"
      ]
    },
    {
      "cell_type": "code",
      "execution_count": null,
      "metadata": {
        "_cell_guid": "671a5ed5-1103-4dd7-b7ef-f4959320b9b8",
        "_uuid": "ae95b7f9abb4c55f97a7b0e844966d766acd14e1",
        "colab": {
          "base_uri": "https://localhost:8080/",
          "height": 74
        },
        "id": "GdNJu-1C1Ts5",
        "outputId": "549b7fe4-76a1-4623-a1eb-db6d56bec5d5"
      },
      "outputs": [
        {
          "output_type": "execute_result",
          "data": {
            "text/plain": [
              "SVC(kernel='linear')"
            ],
            "text/html": [
              "<style>#sk-container-id-1 {color: black;background-color: white;}#sk-container-id-1 pre{padding: 0;}#sk-container-id-1 div.sk-toggleable {background-color: white;}#sk-container-id-1 label.sk-toggleable__label {cursor: pointer;display: block;width: 100%;margin-bottom: 0;padding: 0.3em;box-sizing: border-box;text-align: center;}#sk-container-id-1 label.sk-toggleable__label-arrow:before {content: \"▸\";float: left;margin-right: 0.25em;color: #696969;}#sk-container-id-1 label.sk-toggleable__label-arrow:hover:before {color: black;}#sk-container-id-1 div.sk-estimator:hover label.sk-toggleable__label-arrow:before {color: black;}#sk-container-id-1 div.sk-toggleable__content {max-height: 0;max-width: 0;overflow: hidden;text-align: left;background-color: #f0f8ff;}#sk-container-id-1 div.sk-toggleable__content pre {margin: 0.2em;color: black;border-radius: 0.25em;background-color: #f0f8ff;}#sk-container-id-1 input.sk-toggleable__control:checked~div.sk-toggleable__content {max-height: 200px;max-width: 100%;overflow: auto;}#sk-container-id-1 input.sk-toggleable__control:checked~label.sk-toggleable__label-arrow:before {content: \"▾\";}#sk-container-id-1 div.sk-estimator input.sk-toggleable__control:checked~label.sk-toggleable__label {background-color: #d4ebff;}#sk-container-id-1 div.sk-label input.sk-toggleable__control:checked~label.sk-toggleable__label {background-color: #d4ebff;}#sk-container-id-1 input.sk-hidden--visually {border: 0;clip: rect(1px 1px 1px 1px);clip: rect(1px, 1px, 1px, 1px);height: 1px;margin: -1px;overflow: hidden;padding: 0;position: absolute;width: 1px;}#sk-container-id-1 div.sk-estimator {font-family: monospace;background-color: #f0f8ff;border: 1px dotted black;border-radius: 0.25em;box-sizing: border-box;margin-bottom: 0.5em;}#sk-container-id-1 div.sk-estimator:hover {background-color: #d4ebff;}#sk-container-id-1 div.sk-parallel-item::after {content: \"\";width: 100%;border-bottom: 1px solid gray;flex-grow: 1;}#sk-container-id-1 div.sk-label:hover label.sk-toggleable__label {background-color: #d4ebff;}#sk-container-id-1 div.sk-serial::before {content: \"\";position: absolute;border-left: 1px solid gray;box-sizing: border-box;top: 0;bottom: 0;left: 50%;z-index: 0;}#sk-container-id-1 div.sk-serial {display: flex;flex-direction: column;align-items: center;background-color: white;padding-right: 0.2em;padding-left: 0.2em;position: relative;}#sk-container-id-1 div.sk-item {position: relative;z-index: 1;}#sk-container-id-1 div.sk-parallel {display: flex;align-items: stretch;justify-content: center;background-color: white;position: relative;}#sk-container-id-1 div.sk-item::before, #sk-container-id-1 div.sk-parallel-item::before {content: \"\";position: absolute;border-left: 1px solid gray;box-sizing: border-box;top: 0;bottom: 0;left: 50%;z-index: -1;}#sk-container-id-1 div.sk-parallel-item {display: flex;flex-direction: column;z-index: 1;position: relative;background-color: white;}#sk-container-id-1 div.sk-parallel-item:first-child::after {align-self: flex-end;width: 50%;}#sk-container-id-1 div.sk-parallel-item:last-child::after {align-self: flex-start;width: 50%;}#sk-container-id-1 div.sk-parallel-item:only-child::after {width: 0;}#sk-container-id-1 div.sk-dashed-wrapped {border: 1px dashed gray;margin: 0 0.4em 0.5em 0.4em;box-sizing: border-box;padding-bottom: 0.4em;background-color: white;}#sk-container-id-1 div.sk-label label {font-family: monospace;font-weight: bold;display: inline-block;line-height: 1.2em;}#sk-container-id-1 div.sk-label-container {text-align: center;}#sk-container-id-1 div.sk-container {/* jupyter's `normalize.less` sets `[hidden] { display: none; }` but bootstrap.min.css set `[hidden] { display: none !important; }` so we also need the `!important` here to be able to override the default hidden behavior on the sphinx rendered scikit-learn.org. See: https://github.com/scikit-learn/scikit-learn/issues/21755 */display: inline-block !important;position: relative;}#sk-container-id-1 div.sk-text-repr-fallback {display: none;}</style><div id=\"sk-container-id-1\" class=\"sk-top-container\"><div class=\"sk-text-repr-fallback\"><pre>SVC(kernel=&#x27;linear&#x27;)</pre><b>In a Jupyter environment, please rerun this cell to show the HTML representation or trust the notebook. <br />On GitHub, the HTML representation is unable to render, please try loading this page with nbviewer.org.</b></div><div class=\"sk-container\" hidden><div class=\"sk-item\"><div class=\"sk-estimator sk-toggleable\"><input class=\"sk-toggleable__control sk-hidden--visually\" id=\"sk-estimator-id-1\" type=\"checkbox\" checked><label for=\"sk-estimator-id-1\" class=\"sk-toggleable__label sk-toggleable__label-arrow\">SVC</label><div class=\"sk-toggleable__content\"><pre>SVC(kernel=&#x27;linear&#x27;)</pre></div></div></div></div></div>"
            ]
          },
          "metadata": {},
          "execution_count": 21
        }
      ],
      "source": [
        "classifier.fit(X_train, y_train) # Then we train our model, with our balanced data train."
      ]
    },
    {
      "cell_type": "code",
      "execution_count": null,
      "metadata": {
        "_cell_guid": "b7f42a0d-5dc2-482e-83dd-95be0b709fae",
        "_uuid": "06c4a00a2aeb9989135ef954ade5bf1dd750f8ce",
        "collapsed": true,
        "colab": {
          "base_uri": "https://localhost:8080/",
          "height": 352
        },
        "id": "T3sqDkro1Ts6",
        "outputId": "d2cc8edd-0853-41e6-eee0-e2f7bb035b49"
      },
      "outputs": [
        {
          "output_type": "error",
          "ename": "ValueError",
          "evalue": "ignored",
          "traceback": [
            "\u001b[0;31m---------------------------------------------------------------------------\u001b[0m",
            "\u001b[0;31mValueError\u001b[0m                                Traceback (most recent call last)",
            "\u001b[0;32m<ipython-input-26-ca6c5a532467>\u001b[0m in \u001b[0;36m<cell line: 1>\u001b[0;34m()\u001b[0m\n\u001b[0;32m----> 1\u001b[0;31m \u001b[0mprediction_SVM_all\u001b[0m \u001b[0;34m=\u001b[0m \u001b[0mclassifier\u001b[0m\u001b[0;34m.\u001b[0m\u001b[0mpredict\u001b[0m\u001b[0;34m(\u001b[0m\u001b[0mX_test_all\u001b[0m\u001b[0;34m)\u001b[0m\u001b[0;34m\u001b[0m\u001b[0;34m\u001b[0m\u001b[0m\n\u001b[0m",
            "\u001b[0;32m/usr/local/lib/python3.10/dist-packages/sklearn/svm/_base.py\u001b[0m in \u001b[0;36mpredict\u001b[0;34m(self, X)\u001b[0m\n\u001b[1;32m    818\u001b[0m             \u001b[0my\u001b[0m \u001b[0;34m=\u001b[0m \u001b[0mnp\u001b[0m\u001b[0;34m.\u001b[0m\u001b[0margmax\u001b[0m\u001b[0;34m(\u001b[0m\u001b[0mself\u001b[0m\u001b[0;34m.\u001b[0m\u001b[0mdecision_function\u001b[0m\u001b[0;34m(\u001b[0m\u001b[0mX\u001b[0m\u001b[0;34m)\u001b[0m\u001b[0;34m,\u001b[0m \u001b[0maxis\u001b[0m\u001b[0;34m=\u001b[0m\u001b[0;36m1\u001b[0m\u001b[0;34m)\u001b[0m\u001b[0;34m\u001b[0m\u001b[0;34m\u001b[0m\u001b[0m\n\u001b[1;32m    819\u001b[0m         \u001b[0;32melse\u001b[0m\u001b[0;34m:\u001b[0m\u001b[0;34m\u001b[0m\u001b[0;34m\u001b[0m\u001b[0m\n\u001b[0;32m--> 820\u001b[0;31m             \u001b[0my\u001b[0m \u001b[0;34m=\u001b[0m \u001b[0msuper\u001b[0m\u001b[0;34m(\u001b[0m\u001b[0;34m)\u001b[0m\u001b[0;34m.\u001b[0m\u001b[0mpredict\u001b[0m\u001b[0;34m(\u001b[0m\u001b[0mX\u001b[0m\u001b[0;34m)\u001b[0m\u001b[0;34m\u001b[0m\u001b[0;34m\u001b[0m\u001b[0m\n\u001b[0m\u001b[1;32m    821\u001b[0m         \u001b[0;32mreturn\u001b[0m \u001b[0mself\u001b[0m\u001b[0;34m.\u001b[0m\u001b[0mclasses_\u001b[0m\u001b[0;34m.\u001b[0m\u001b[0mtake\u001b[0m\u001b[0;34m(\u001b[0m\u001b[0mnp\u001b[0m\u001b[0;34m.\u001b[0m\u001b[0masarray\u001b[0m\u001b[0;34m(\u001b[0m\u001b[0my\u001b[0m\u001b[0;34m,\u001b[0m \u001b[0mdtype\u001b[0m\u001b[0;34m=\u001b[0m\u001b[0mnp\u001b[0m\u001b[0;34m.\u001b[0m\u001b[0mintp\u001b[0m\u001b[0;34m)\u001b[0m\u001b[0;34m)\u001b[0m\u001b[0;34m\u001b[0m\u001b[0;34m\u001b[0m\u001b[0m\n\u001b[1;32m    822\u001b[0m \u001b[0;34m\u001b[0m\u001b[0m\n",
            "\u001b[0;32m/usr/local/lib/python3.10/dist-packages/sklearn/svm/_base.py\u001b[0m in \u001b[0;36mpredict\u001b[0;34m(self, X)\u001b[0m\n\u001b[1;32m    431\u001b[0m             \u001b[0mThe\u001b[0m \u001b[0mpredicted\u001b[0m \u001b[0mvalues\u001b[0m\u001b[0;34m.\u001b[0m\u001b[0;34m\u001b[0m\u001b[0;34m\u001b[0m\u001b[0m\n\u001b[1;32m    432\u001b[0m         \"\"\"\n\u001b[0;32m--> 433\u001b[0;31m         \u001b[0mX\u001b[0m \u001b[0;34m=\u001b[0m \u001b[0mself\u001b[0m\u001b[0;34m.\u001b[0m\u001b[0m_validate_for_predict\u001b[0m\u001b[0;34m(\u001b[0m\u001b[0mX\u001b[0m\u001b[0;34m)\u001b[0m\u001b[0;34m\u001b[0m\u001b[0;34m\u001b[0m\u001b[0m\n\u001b[0m\u001b[1;32m    434\u001b[0m         \u001b[0mpredict\u001b[0m \u001b[0;34m=\u001b[0m \u001b[0mself\u001b[0m\u001b[0;34m.\u001b[0m\u001b[0m_sparse_predict\u001b[0m \u001b[0;32mif\u001b[0m \u001b[0mself\u001b[0m\u001b[0;34m.\u001b[0m\u001b[0m_sparse\u001b[0m \u001b[0;32melse\u001b[0m \u001b[0mself\u001b[0m\u001b[0;34m.\u001b[0m\u001b[0m_dense_predict\u001b[0m\u001b[0;34m\u001b[0m\u001b[0;34m\u001b[0m\u001b[0m\n\u001b[1;32m    435\u001b[0m         \u001b[0;32mreturn\u001b[0m \u001b[0mpredict\u001b[0m\u001b[0;34m(\u001b[0m\u001b[0mX\u001b[0m\u001b[0;34m)\u001b[0m\u001b[0;34m\u001b[0m\u001b[0;34m\u001b[0m\u001b[0m\n",
            "\u001b[0;32m/usr/local/lib/python3.10/dist-packages/sklearn/svm/_base.py\u001b[0m in \u001b[0;36m_validate_for_predict\u001b[0;34m(self, X)\u001b[0m\n\u001b[1;32m    611\u001b[0m \u001b[0;34m\u001b[0m\u001b[0m\n\u001b[1;32m    612\u001b[0m         \u001b[0;32mif\u001b[0m \u001b[0;32mnot\u001b[0m \u001b[0mcallable\u001b[0m\u001b[0;34m(\u001b[0m\u001b[0mself\u001b[0m\u001b[0;34m.\u001b[0m\u001b[0mkernel\u001b[0m\u001b[0;34m)\u001b[0m\u001b[0;34m:\u001b[0m\u001b[0;34m\u001b[0m\u001b[0;34m\u001b[0m\u001b[0m\n\u001b[0;32m--> 613\u001b[0;31m             X = self._validate_data(\n\u001b[0m\u001b[1;32m    614\u001b[0m                 \u001b[0mX\u001b[0m\u001b[0;34m,\u001b[0m\u001b[0;34m\u001b[0m\u001b[0;34m\u001b[0m\u001b[0m\n\u001b[1;32m    615\u001b[0m                 \u001b[0maccept_sparse\u001b[0m\u001b[0;34m=\u001b[0m\u001b[0;34m\"csr\"\u001b[0m\u001b[0;34m,\u001b[0m\u001b[0;34m\u001b[0m\u001b[0;34m\u001b[0m\u001b[0m\n",
            "\u001b[0;32m/usr/local/lib/python3.10/dist-packages/sklearn/base.py\u001b[0m in \u001b[0;36m_validate_data\u001b[0;34m(self, X, y, reset, validate_separately, **check_params)\u001b[0m\n\u001b[1;32m    563\u001b[0m             \u001b[0;32mraise\u001b[0m \u001b[0mValueError\u001b[0m\u001b[0;34m(\u001b[0m\u001b[0;34m\"Validation should be done on X, y or both.\"\u001b[0m\u001b[0;34m)\u001b[0m\u001b[0;34m\u001b[0m\u001b[0;34m\u001b[0m\u001b[0m\n\u001b[1;32m    564\u001b[0m         \u001b[0;32melif\u001b[0m \u001b[0;32mnot\u001b[0m \u001b[0mno_val_X\u001b[0m \u001b[0;32mand\u001b[0m \u001b[0mno_val_y\u001b[0m\u001b[0;34m:\u001b[0m\u001b[0;34m\u001b[0m\u001b[0;34m\u001b[0m\u001b[0m\n\u001b[0;32m--> 565\u001b[0;31m             \u001b[0mX\u001b[0m \u001b[0;34m=\u001b[0m \u001b[0mcheck_array\u001b[0m\u001b[0;34m(\u001b[0m\u001b[0mX\u001b[0m\u001b[0;34m,\u001b[0m \u001b[0minput_name\u001b[0m\u001b[0;34m=\u001b[0m\u001b[0;34m\"X\"\u001b[0m\u001b[0;34m,\u001b[0m \u001b[0;34m**\u001b[0m\u001b[0mcheck_params\u001b[0m\u001b[0;34m)\u001b[0m\u001b[0;34m\u001b[0m\u001b[0;34m\u001b[0m\u001b[0m\n\u001b[0m\u001b[1;32m    566\u001b[0m             \u001b[0mout\u001b[0m \u001b[0;34m=\u001b[0m \u001b[0mX\u001b[0m\u001b[0;34m\u001b[0m\u001b[0;34m\u001b[0m\u001b[0m\n\u001b[1;32m    567\u001b[0m         \u001b[0;32melif\u001b[0m \u001b[0mno_val_X\u001b[0m \u001b[0;32mand\u001b[0m \u001b[0;32mnot\u001b[0m \u001b[0mno_val_y\u001b[0m\u001b[0;34m:\u001b[0m\u001b[0;34m\u001b[0m\u001b[0;34m\u001b[0m\u001b[0m\n",
            "\u001b[0;32m/usr/local/lib/python3.10/dist-packages/sklearn/utils/validation.py\u001b[0m in \u001b[0;36mcheck_array\u001b[0;34m(array, accept_sparse, accept_large_sparse, dtype, order, copy, force_all_finite, ensure_2d, allow_nd, ensure_min_samples, ensure_min_features, estimator, input_name)\u001b[0m\n\u001b[1;32m    929\u001b[0m         \u001b[0mn_samples\u001b[0m \u001b[0;34m=\u001b[0m \u001b[0m_num_samples\u001b[0m\u001b[0;34m(\u001b[0m\u001b[0marray\u001b[0m\u001b[0;34m)\u001b[0m\u001b[0;34m\u001b[0m\u001b[0;34m\u001b[0m\u001b[0m\n\u001b[1;32m    930\u001b[0m         \u001b[0;32mif\u001b[0m \u001b[0mn_samples\u001b[0m \u001b[0;34m<\u001b[0m \u001b[0mensure_min_samples\u001b[0m\u001b[0;34m:\u001b[0m\u001b[0;34m\u001b[0m\u001b[0;34m\u001b[0m\u001b[0m\n\u001b[0;32m--> 931\u001b[0;31m             raise ValueError(\n\u001b[0m\u001b[1;32m    932\u001b[0m                 \u001b[0;34m\"Found array with %d sample(s) (shape=%s) while a\"\u001b[0m\u001b[0;34m\u001b[0m\u001b[0;34m\u001b[0m\u001b[0m\n\u001b[1;32m    933\u001b[0m                 \u001b[0;34m\" minimum of %d is required%s.\"\u001b[0m\u001b[0;34m\u001b[0m\u001b[0;34m\u001b[0m\u001b[0m\n",
            "\u001b[0;31mValueError\u001b[0m: Found array with 0 sample(s) (shape=(0, 29)) while a minimum of 1 is required by SVC."
          ]
        }
      ],
      "source": [
        "prediction_SVM_all = classifier.predict(X_test_all)"
      ]
    },
    {
      "cell_type": "code",
      "execution_count": null,
      "metadata": {
        "_cell_guid": "5558cbc6-e22c-4748-8640-35cd43358d1c",
        "_uuid": "cf58f6438e736b63903773caf38cd364a73178d4",
        "colab": {
          "base_uri": "https://localhost:8080/",
          "height": 200
        },
        "id": "u_2dB_ri1Ts6",
        "outputId": "4dc2fc8b-a619-449d-e338-e81f631099be"
      },
      "outputs": [
        {
          "output_type": "error",
          "ename": "NameError",
          "evalue": "ignored",
          "traceback": [
            "\u001b[0;31m---------------------------------------------------------------------------\u001b[0m",
            "\u001b[0;31mNameError\u001b[0m                                 Traceback (most recent call last)",
            "\u001b[0;32m<ipython-input-25-e63827a79ce6>\u001b[0m in \u001b[0;36m<cell line: 1>\u001b[0;34m()\u001b[0m\n\u001b[0;32m----> 1\u001b[0;31m \u001b[0mcm\u001b[0m \u001b[0;34m=\u001b[0m \u001b[0mconfusion_matrix\u001b[0m\u001b[0;34m(\u001b[0m\u001b[0my_test_all\u001b[0m\u001b[0;34m,\u001b[0m \u001b[0mprediction_SVM_all\u001b[0m\u001b[0;34m)\u001b[0m\u001b[0;34m\u001b[0m\u001b[0;34m\u001b[0m\u001b[0m\n\u001b[0m\u001b[1;32m      2\u001b[0m \u001b[0mplot_confusion_matrix\u001b[0m\u001b[0;34m(\u001b[0m\u001b[0mcm\u001b[0m\u001b[0;34m,\u001b[0m\u001b[0mclass_names\u001b[0m\u001b[0;34m)\u001b[0m\u001b[0;34m\u001b[0m\u001b[0;34m\u001b[0m\u001b[0m\n",
            "\u001b[0;31mNameError\u001b[0m: name 'prediction_SVM_all' is not defined"
          ]
        }
      ],
      "source": [
        "cm = confusion_matrix(y_test_all, prediction_SVM_all)\n",
        "plot_confusion_matrix(cm,class_names)"
      ]
    },
    {
      "cell_type": "markdown",
      "metadata": {
        "_cell_guid": "fcc81707-fc91-4a66-945b-93fb7423dfcd",
        "_uuid": "9866599a18a5ff8286d8fac8ce2dd7213ae2d310",
        "id": "0coc9y851Ts6"
      },
      "source": [
        "In this case we are gonna try to minimize the number of errors in our prediction results. Errors are on the anti-diagonal of the confusion matrix.  But we can infer that being wrong about an actual fraud is far worse than being wrong about a non-fraud transaction."
      ]
    },
    {
      "cell_type": "markdown",
      "metadata": {
        "_cell_guid": "93871f02-4e10-4ae4-9724-0d673e56c255",
        "_uuid": "b164a5ed0b0b36739ad8b96052a14d515bb277e9",
        "id": "b3-W37yS1Ts6"
      },
      "source": [
        "That is why  using the accuracy as only classification criterion could be considered unthoughtful.\n",
        "During the remaining part of this study our criterion will consider precision on the real fraud 4 times more important than the general accuracy.\n",
        "Even though the final tested result is accuracy."
      ]
    },
    {
      "cell_type": "code",
      "execution_count": null,
      "metadata": {
        "_cell_guid": "21cde17a-738a-4c75-a6b3-16b4c055188b",
        "_uuid": "7000a8cec37987f50f8e398e48894c5ece0a7470",
        "id": "2bc49lnm1Ts6",
        "outputId": "6d5044c3-5281-4a14-eaca-4f065bfd6ec6"
      },
      "outputs": [
        {
          "name": "stdout",
          "output_type": "stream",
          "text": [
            "Our criterion give a result of 0.9282135603279924\n"
          ]
        }
      ],
      "source": [
        "print('Our criterion give a result of '\n",
        "      + str( ( (cm[0][0]+cm[1][1]) / (sum(cm[0]) + sum(cm[1])) + 4 * cm[1][1]/(cm[1][0]+cm[1][1])) / 5))"
      ]
    },
    {
      "cell_type": "code",
      "execution_count": null,
      "metadata": {
        "_cell_guid": "08447323-4ed7-4e29-a3c1-c86682ff63f0",
        "_uuid": "7c7bb0d2cfffdbdbe10df915a429c88e36a60957",
        "id": "kZPSKOBw1Ts7",
        "outputId": "f3feeb64-f15f-4c16-a580-70189113f870"
      },
      "outputs": [
        {
          "name": "stdout",
          "output_type": "stream",
          "text": [
            "We have detected 188 frauds / 199 total frauds.\n",
            "\n",
            "So, the probability to detect a fraud is 0.9447236180904522\n",
            "the accuracy is : 0.8621733292781533\n"
          ]
        }
      ],
      "source": [
        "print('We have detected ' + str(cm[1][1]) + ' frauds / ' + str(cm[1][1]+cm[1][0]) + ' total frauds.')\n",
        "print('\\nSo, the probability to detect a fraud is ' + str(cm[1][1]/(cm[1][1]+cm[1][0])))\n",
        "print(\"the accuracy is : \"+str((cm[0][0]+cm[1][1]) / (sum(cm[0]) + sum(cm[1]))))"
      ]
    },
    {
      "cell_type": "markdown",
      "metadata": {
        "_cell_guid": "087b8a01-6a00-4bdd-ade9-08a3b5cd198b",
        "_uuid": "13428d627950722f5c2dab060549bdd519a2981a",
        "id": "USfwd22P1Ts7"
      },
      "source": [
        " # Models Rank"
      ]
    },
    {
      "cell_type": "markdown",
      "metadata": {
        "_cell_guid": "37124bd8-5865-4ddc-b04f-f6d899340968",
        "_uuid": "7bfed5e996206e6863601fcaa09761baf68fb361",
        "id": "xwEMpyll1Ts7"
      },
      "source": [
        "There is a need to compute the fit method again, as the dimension of the tuples to predict went from 29 to 10 because of the dimension reduction"
      ]
    },
    {
      "cell_type": "code",
      "execution_count": null,
      "metadata": {
        "_cell_guid": "5e73fef0-c4d4-450b-9961-e841767e0342",
        "_uuid": "b4247cb1dd4d7af91421d01f7067898799fdbfd8",
        "collapsed": true,
        "id": "QXL-7CcK1Ts7"
      },
      "outputs": [],
      "source": [
        "classifier.fit(X_train_rank, y_train) # Then we train our model, with our balanced data train.\n",
        "prediction_SVM = classifier.predict(X_test_all_rank) #And finally, we predict our data test."
      ]
    },
    {
      "cell_type": "code",
      "execution_count": null,
      "metadata": {
        "_cell_guid": "e84710c9-59fe-4205-8c05-e989d5942712",
        "_uuid": "bb4defbee6e8ebaff98eebaff7701503d2b65434",
        "id": "BFBVB0za1Ts7",
        "outputId": "5758e537-8bf5-4456-e992-7e3c14f1501f"
      },
      "outputs": [
        {
          "data": {
            "image/png": "[encoded data removed]",
            "text/plain": [
              "<Figure size 432x288 with 2 Axes>"
            ]
          },
          "metadata": {},
          "output_type": "display_data"
        }
      ],
      "source": [
        "cm = confusion_matrix(y_test_all, prediction_SVM)\n",
        "plot_confusion_matrix(cm,class_names)"
      ]
    },
    {
      "cell_type": "code",
      "execution_count": null,
      "metadata": {
        "_cell_guid": "d310bf29-6673-4882-8387-e4b6fb53ee86",
        "_uuid": "a0d4e792c37722f84d9b55432b286bfcafec1293",
        "id": "5vUerVm11Ts7",
        "outputId": "460d43e3-680d-44d9-dcb8-3e591f0dda1a"
      },
      "outputs": [
        {
          "name": "stdout",
          "output_type": "stream",
          "text": [
            "Our criterion give a result of 0.9235598646462486\n"
          ]
        }
      ],
      "source": [
        "print('Our criterion give a result of '\n",
        "      + str( ( (cm[0][0]+cm[1][1]) / (sum(cm[0]) + sum(cm[1])) + 4 * cm[1][1]/(cm[1][0]+cm[1][1])) / 5))"
      ]
    },
    {
      "cell_type": "code",
      "execution_count": null,
      "metadata": {
        "_cell_guid": "9fb3cb24-8f70-423c-89c7-aa91d15172ad",
        "_uuid": "f39c12ef5d8c91185b1873483fd93e26c13c3cab",
        "id": "hLI8j0ZP1Ts7",
        "outputId": "5e5051e5-c942-44f7-e001-cd9e0f80dec2"
      },
      "outputs": [
        {
          "name": "stdout",
          "output_type": "stream",
          "text": [
            "We have detected 184 frauds / 199 total frauds.\n",
            "\n",
            "So, the probability to detect a fraud is 0.9246231155778895\n",
            "the accuracy is : 0.9193068609196852\n"
          ]
        }
      ],
      "source": [
        "print('We have detected ' + str(cm[1][1]) + ' frauds / ' + str(cm[1][1]+cm[1][0]) + ' total frauds.')\n",
        "print('\\nSo, the probability to detect a fraud is ' + str(cm[1][1]/(cm[1][1]+cm[1][0])))\n",
        "print(\"the accuracy is : \"+str((cm[0][0]+cm[1][1]) / (sum(cm[0]) + sum(cm[1]))))"
      ]
    },
    {
      "cell_type": "markdown",
      "metadata": {
        "_cell_guid": "74782013-18d1-4afb-8d3c-67dc8cae17d2",
        "_uuid": "6b8d59c2aa9b0a07112a405d063120dc0e20e338",
        "id": "wS9IOynI1Ts8"
      },
      "source": [
        "We can see that the study using the reduced data is far from unrelevant, which means that the last step of the previously computed PCA could have been done in a more efficient way. Indeed one of the main question we have with the PCA once we calculated the principals components direction, is how many of this component are we gonna keep. This means that some of the 30 dimensions are do not discriminate classes that much."
      ]
    },
    {
      "cell_type": "markdown",
      "metadata": {
        "_cell_guid": "66ca64cd-078d-4a1c-8ecd-d85a247ef5f3",
        "_uuid": "a38206000a28bcc2baf07d0d8e10f7eb1256f993",
        "id": "-pJ7HTMZ1Ts8"
      },
      "source": [
        "# Re-balanced class weigh :"
      ]
    },
    {
      "cell_type": "markdown",
      "metadata": {
        "_cell_guid": "10579138-58f9-41db-b5a7-25f6c4741900",
        "_uuid": "6cd3881e06f80ba87e4377c525572db1585e1c84",
        "id": "6BrFyeNB1Ts8"
      },
      "source": [
        "In this previously used SVM model, the weigh of each class was the same, which means that missing a fraud is as bad as misjudging a non-fraud. The objective, for a bank, is to maximize the number of detected frauds! Even if it means considering more non-fraud tuple as fraudulent operation. So, we need to minimize the False positives : the number of no detected frauds.\n",
        "\n",
        "Indeed, by modifying the class_weight parameter, we can chose which class to give more importance during the training phase. In this case, the class_1 which describes the fraudulent operations will be considered more important than the class_0 (non-fraud operation). However, in this case we will give more importance to the class_0 due to the large number of misclassed non-fraud operation. Of course the goal is to lose as little effective fraud as possible in the process.\n"
      ]
    },
    {
      "cell_type": "code",
      "execution_count": null,
      "metadata": {
        "_cell_guid": "33f60bc0-38c6-4ee7-a348-e2254bca727c",
        "_uuid": "5c36459b8b55ab20a57097d820f7f24a856c20f7",
        "collapsed": true,
        "id": "5ENjM4ef1Ts8"
      },
      "outputs": [],
      "source": [
        "classifier_b = svm.SVC(kernel='linear',class_weight={0:0.60, 1:0.40})"
      ]
    },
    {
      "cell_type": "code",
      "execution_count": null,
      "metadata": {
        "_cell_guid": "07b6b2e3-4cd2-4202-b2a9-3d22edadf650",
        "_uuid": "4b29ebf3f9fd2e591498e747d453297ccc9d95f0",
        "id": "dDjk4qJz1Ts8",
        "outputId": "013931cd-09b2-4266-ec83-cf2a6f1d6be7"
      },
      "outputs": [
        {
          "data": {
            "text/plain": [
              "SVC(C=1.0, cache_size=200, class_weight={0: 0.6, 1: 0.4}, coef0=0.0,\n",
              "    decision_function_shape='ovr', degree=3, gamma='auto_deprecated',\n",
              "    kernel='linear', max_iter=-1, probability=False, random_state=None,\n",
              "    shrinking=True, tol=0.001, verbose=False)"
            ]
          },
          "execution_count": 30,
          "metadata": {},
          "output_type": "execute_result"
        }
      ],
      "source": [
        "classifier_b.fit(X_train, y_train) # Then we train our model, with our balanced data train."
      ]
    },
    {
      "cell_type": "markdown",
      "metadata": {
        "_cell_guid": "711f7353-4f8d-494e-a2e3-e24c69da17a8",
        "_uuid": "f441734ba20be6e81ead1f4fb1196c09095cc4f6",
        "id": "1QqkXATc1Ts8"
      },
      "source": [
        "# Testing the model"
      ]
    },
    {
      "cell_type": "code",
      "execution_count": null,
      "metadata": {
        "_cell_guid": "63406a9e-e7f7-4bbe-9945-55daf2c384a8",
        "_uuid": "c2b29f36198561711dd23cdef243bd7d9b41bce7",
        "collapsed": true,
        "id": "GIvYR9bs1Ts8"
      },
      "outputs": [],
      "source": [
        "prediction_SVM_b_all = classifier_b.predict(X_test_all) #We predict all the data set."
      ]
    },
    {
      "cell_type": "code",
      "execution_count": null,
      "metadata": {
        "_cell_guid": "42f417eb-5c5c-4d1d-af59-349d17d77f6f",
        "_uuid": "e462d0526a115a87d27f8a1c24bbb6fd3b9e9eeb",
        "id": "ZT58x8Yc1Ts9",
        "outputId": "f6942c07-970f-4e70-d865-027b019f785a"
      },
      "outputs": [
        {
          "data": {
            "image/png": "[encoded data removed]",
            "text/plain": [
              "<Figure size 432x288 with 2 Axes>"
            ]
          },
          "metadata": {},
          "output_type": "display_data"
        }
      ],
      "source": [
        "cm = confusion_matrix(y_test_all, prediction_SVM_b_all)\n",
        "plot_confusion_matrix(cm,class_names)"
      ]
    },
    {
      "cell_type": "code",
      "execution_count": null,
      "metadata": {
        "_cell_guid": "9aa0594f-88da-4015-a712-c4e378d276c9",
        "_uuid": "5f80761a24cf70ac29bbf3650a7db0ae6c273600",
        "id": "WWZ695N51Ts9",
        "outputId": "d33e3f45-f485-42e1-d7fd-8924b62ba669"
      },
      "outputs": [
        {
          "name": "stdout",
          "output_type": "stream",
          "text": [
            "Our criterion give a result of 0.9309957772125592\n"
          ]
        }
      ],
      "source": [
        "print('Our criterion give a result of '\n",
        "      + str( ( (cm[0][0]+cm[1][1]) / (sum(cm[0]) + sum(cm[1])) + 4 * cm[1][1]/(cm[1][0]+cm[1][1])) / 5))"
      ]
    },
    {
      "cell_type": "code",
      "execution_count": null,
      "metadata": {
        "_cell_guid": "d03a28ad-b9e1-4c2c-bed2-06308b1816cf",
        "_uuid": "3d674db8f4eeb8ed4a8583e3d5cd40f8561ae33d",
        "id": "D7E4gmaU1Ts9",
        "outputId": "4a372843-e97c-4bf2-c64c-194c3cb2e5db"
      },
      "outputs": [
        {
          "name": "stdout",
          "output_type": "stream",
          "text": [
            "We have detected 187 frauds / 199 total frauds.\n",
            "\n",
            "So, the probability to detect a fraud is 0.9396984924623115\n",
            "the accuracy is : 0.8961849162135498\n"
          ]
        }
      ],
      "source": [
        "print('We have detected ' + str(cm[1][1]) + ' frauds / ' + str(cm[1][1]+cm[1][0]) + ' total frauds.')\n",
        "print('\\nSo, the probability to detect a fraud is ' + str(cm[1][1]/(cm[1][1]+cm[1][0])))\n",
        "print(\"the accuracy is : \"+str((cm[0][0]+cm[1][1]) / (sum(cm[0]) + sum(cm[1]))))"
      ]
    },
    {
      "cell_type": "code",
      "execution_count": null,
      "metadata": {
        "_cell_guid": "ef932b2b-72bf-47df-9157-ae3249665467",
        "_uuid": "9d241abdaded4809eafe7e2c885150e63f4ae4d0",
        "collapsed": true,
        "id": "30T2ULfq1Ts9"
      },
      "outputs": [],
      "source": [
        "classifier_b.fit(X_train_rank, y_train) # Then we train our model, with our balanced data train.\n",
        "prediction_SVM = classifier_b.predict(X_test_all_rank) #And finally, we predict our data test."
      ]
    },
    {
      "cell_type": "code",
      "execution_count": null,
      "metadata": {
        "_cell_guid": "a9ce5f16-08b3-4932-89ee-1ed934684482",
        "_uuid": "3e6542b40144dbef93f27144198299e9b7a84bbe",
        "id": "5aoZTKCX1Ts9"
      },
      "outputs": [],
      "source": [
        "cm = confusion_matrix(y_test_all, prediction_SVM)\n",
        "plot_confusion_matrix(cm,class_names)"
      ]
    },
    {
      "cell_type": "code",
      "execution_count": null,
      "metadata": {
        "_cell_guid": "ff879d9e-b9c3-40b7-a9a6-dae5ce11a88e",
        "_uuid": "653485d7a5c7feb2052321b7a05b4415b63fdac8",
        "id": "wgfF5N4j1Ts-"
      },
      "outputs": [],
      "source": [
        "print('Our criterion give a result of '\n",
        "      + str( ( (cm[0][0]+cm[1][1]) / (sum(cm[0]) + sum(cm[1])) + 4 * cm[1][1]/(cm[1][0]+cm[1][1])) / 5))"
      ]
    },
    {
      "cell_type": "code",
      "execution_count": null,
      "metadata": {
        "_cell_guid": "6aa458bb-3314-492b-b9c3-4d811c5a2db5",
        "_uuid": "725c2ff781e0a1c86eb160eeab0da9723aee91cc",
        "id": "XU8PpdX_1Ts-"
      },
      "outputs": [],
      "source": [
        "print('We have detected ' + str(cm[1][1]) + ' frauds / ' + str(cm[1][1]+cm[1][0]) + ' total frauds.')\n",
        "print('\\nSo, the probability to detect a fraud is ' + str(cm[1][1]/(cm[1][1]+cm[1][0])))\n",
        "print(\"the accuracy is : \"+str((cm[0][0]+cm[1][1]) / (sum(cm[0]) + sum(cm[1]))))"
      ]
    },
    {
      "cell_type": "markdown",
      "metadata": {
        "_cell_guid": "7950e244-844f-418c-9898-2f06756dc125",
        "_uuid": "f31fdcb8899711ce15b5a0760eced5741a9e1d97",
        "id": "WvN9jkuG1Ts9"
      },
      "source": [
        " # Models Rank"
      ]
    }
  ],
  "metadata": {
    "anaconda-cloud": {},
    "kernelspec": {
      "display_name": "Python 3",
      "language": "python",
      "name": "python3"
    },
    "language_info": {
      "codemirror_mode": {
        "name": "ipython",
        "version": 3
      },
      "file_extension": ".py",
      "mimetype": "text/x-python",
      "name": "python",
      "nbconvert_exporter": "python",
      "pygments_lexer": "ipython3",
      "version": "3.6.6"
    },
    "colab": {
      "provenance": []
    }
  },
  "nbformat": 4,
  "nbformat_minor": 0
}